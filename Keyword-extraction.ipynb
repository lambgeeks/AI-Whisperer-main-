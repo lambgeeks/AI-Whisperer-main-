{
 "cells": [
  {
   "cell_type": "code",
   "execution_count": null,
   "id": "c3ffe3aa",
   "metadata": {},
   "outputs": [],
   "source": [
    "!pip install --upgrade git+https://github.com/UKPLab/sentence-transformers\n",
    "!pip install keybert ctransformers[cuda]\n",
    "!pip install --upgrade git+https://github.com/huggingface/transformers\n",
    "!pip -q install langchain openai tiktoken\n",
    "\n",
    "pip install keybert\n",
    "\n",
    "!pip install keybert[flair]\n",
    "!pip install keybert[gensim]\n",
    "!pip install keybert[spacy]\n",
    "!pip install keybert[use]\n"
   ]
  },
  {
   "cell_type": "code",
   "execution_count": null,
   "id": "ff2ccc1c",
   "metadata": {},
   "outputs": [],
   "source": [
    "\n",
    "from keybert import KeyBERT\n",
    "\n",
    "doc = \"\"\"\n",
    "create technical app with all necessary features\n",
    "\n",
    "      \"\"\"\n",
    "kw_model = KeyBERT()\n",
    "keywords = kw_model.extract_keywords(doc)\n",
    "\n",
    "keywords = kw_model.extract_keywords(doc, highlight=True)\n",
    "\n",
    "from keybert import KeyBERT\n",
    "kw_model = KeyBERT(model='all-MiniLM-L6-v2')\n",
    "\n",
    "from keybert import KeyBERT\n",
    "from sentence_transformers import SentenceTransformer\n",
    "\n",
    "sentence_model = SentenceTransformer(\"all-MiniLM-L6-v2\")\n",
    "kw_model = KeyBERT(model=sentence_model)\n",
    "\n",
    "from keybert import KeyBERT\n",
    "\n",
    "doc = \"\"\"\n",
    "    create a technical app with all necessary features\n",
    "\"\"\"\n",
    "\n",
    "kw_model = KeyBERT()\n",
    "keywords = kw_model.extract_keywords(doc, keyphrase_ngram_range=(1, 2))\n",
    "print(keywords)"
   ]
  }
 ],
 "metadata": {
  "kernelspec": {
   "display_name": "Python 3 (ipykernel)",
   "language": "python",
   "name": "python3"
  },
  "language_info": {
   "codemirror_mode": {
    "name": "ipython",
    "version": 3
   },
   "file_extension": ".py",
   "mimetype": "text/x-python",
   "name": "python",
   "nbconvert_exporter": "python",
   "pygments_lexer": "ipython3",
   "version": "3.11.5"
  }
 },
 "nbformat": 4,
 "nbformat_minor": 5
}
